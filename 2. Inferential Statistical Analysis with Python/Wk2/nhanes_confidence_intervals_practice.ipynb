{
 "cells": [
  {
   "cell_type": "markdown",
   "metadata": {},
   "source": [
    "# Practice notebook for confidence intervals using NHANES data\n",
    "\n",
    "This notebook will give you the opportunity to practice working with confidence intervals using the NHANES data.\n",
    "\n",
    "You can enter your code into the cells that say \"enter your code here\", and you can type responses to the questions into the cells that say \"Type Markdown and Latex\".\n",
    "\n",
    "Note that most of the code that you will need to write below is very similar to code that appears in the case study notebook.  You will need to edit code from that notebook in small ways to adapt it to the prompts below.\n",
    "\n",
    "To get started, we will use the same module imports and read the data in the same way as we did in the case study:"
   ]
  },
  {
   "cell_type": "code",
   "execution_count": 1,
   "metadata": {},
   "outputs": [],
   "source": [
    "%matplotlib inline\n",
    "import matplotlib.pyplot as plt\n",
    "import pandas as pd\n",
    "pd.set_option('display.max_columns', 500)\n",
    "pd.options.mode.chained_assignment = None  # default='warn'\n",
    "import numpy as np\n",
    "import seaborn as sns\n",
    "import statsmodels.api as sm\n",
    "from statsmodels.stats.proportion import proportion_confint"
   ]
  },
  {
   "cell_type": "code",
   "execution_count": 2,
   "metadata": {},
   "outputs": [],
   "source": [
    "df = pd.read_csv(\"nhanes_2015_2016.csv\")"
   ]
  },
  {
   "cell_type": "code",
   "execution_count": 3,
   "metadata": {},
   "outputs": [
    {
     "data": {
      "text/html": [
       "<div>\n",
       "<style scoped>\n",
       "    .dataframe tbody tr th:only-of-type {\n",
       "        vertical-align: middle;\n",
       "    }\n",
       "\n",
       "    .dataframe tbody tr th {\n",
       "        vertical-align: top;\n",
       "    }\n",
       "\n",
       "    .dataframe thead th {\n",
       "        text-align: right;\n",
       "    }\n",
       "</style>\n",
       "<table border=\"1\" class=\"dataframe\">\n",
       "  <thead>\n",
       "    <tr style=\"text-align: right;\">\n",
       "      <th></th>\n",
       "      <th>SEQN</th>\n",
       "      <th>ALQ101</th>\n",
       "      <th>ALQ110</th>\n",
       "      <th>ALQ130</th>\n",
       "      <th>SMQ020</th>\n",
       "      <th>RIAGENDR</th>\n",
       "      <th>RIDAGEYR</th>\n",
       "      <th>RIDRETH1</th>\n",
       "      <th>DMDCITZN</th>\n",
       "      <th>DMDEDUC2</th>\n",
       "      <th>DMDMARTL</th>\n",
       "      <th>DMDHHSIZ</th>\n",
       "      <th>WTINT2YR</th>\n",
       "      <th>SDMVPSU</th>\n",
       "      <th>SDMVSTRA</th>\n",
       "      <th>INDFMPIR</th>\n",
       "      <th>BPXSY1</th>\n",
       "      <th>BPXDI1</th>\n",
       "      <th>BPXSY2</th>\n",
       "      <th>BPXDI2</th>\n",
       "      <th>BMXWT</th>\n",
       "      <th>BMXHT</th>\n",
       "      <th>BMXBMI</th>\n",
       "      <th>BMXLEG</th>\n",
       "      <th>BMXARML</th>\n",
       "      <th>BMXARMC</th>\n",
       "      <th>BMXWAIST</th>\n",
       "      <th>HIQ210</th>\n",
       "    </tr>\n",
       "  </thead>\n",
       "  <tbody>\n",
       "    <tr>\n",
       "      <th>0</th>\n",
       "      <td>83732</td>\n",
       "      <td>1.0</td>\n",
       "      <td>NaN</td>\n",
       "      <td>1.0</td>\n",
       "      <td>1</td>\n",
       "      <td>1</td>\n",
       "      <td>62</td>\n",
       "      <td>3</td>\n",
       "      <td>1.0</td>\n",
       "      <td>5.0</td>\n",
       "      <td>1.0</td>\n",
       "      <td>2</td>\n",
       "      <td>134671.37</td>\n",
       "      <td>1</td>\n",
       "      <td>125</td>\n",
       "      <td>4.39</td>\n",
       "      <td>128.0</td>\n",
       "      <td>70.0</td>\n",
       "      <td>124.0</td>\n",
       "      <td>64.0</td>\n",
       "      <td>94.8</td>\n",
       "      <td>184.5</td>\n",
       "      <td>27.8</td>\n",
       "      <td>43.3</td>\n",
       "      <td>43.6</td>\n",
       "      <td>35.9</td>\n",
       "      <td>101.1</td>\n",
       "      <td>2.0</td>\n",
       "    </tr>\n",
       "    <tr>\n",
       "      <th>1</th>\n",
       "      <td>83733</td>\n",
       "      <td>1.0</td>\n",
       "      <td>NaN</td>\n",
       "      <td>6.0</td>\n",
       "      <td>1</td>\n",
       "      <td>1</td>\n",
       "      <td>53</td>\n",
       "      <td>3</td>\n",
       "      <td>2.0</td>\n",
       "      <td>3.0</td>\n",
       "      <td>3.0</td>\n",
       "      <td>1</td>\n",
       "      <td>24328.56</td>\n",
       "      <td>1</td>\n",
       "      <td>125</td>\n",
       "      <td>1.32</td>\n",
       "      <td>146.0</td>\n",
       "      <td>88.0</td>\n",
       "      <td>140.0</td>\n",
       "      <td>88.0</td>\n",
       "      <td>90.4</td>\n",
       "      <td>171.4</td>\n",
       "      <td>30.8</td>\n",
       "      <td>38.0</td>\n",
       "      <td>40.0</td>\n",
       "      <td>33.2</td>\n",
       "      <td>107.9</td>\n",
       "      <td>NaN</td>\n",
       "    </tr>\n",
       "    <tr>\n",
       "      <th>2</th>\n",
       "      <td>83734</td>\n",
       "      <td>1.0</td>\n",
       "      <td>NaN</td>\n",
       "      <td>NaN</td>\n",
       "      <td>1</td>\n",
       "      <td>1</td>\n",
       "      <td>78</td>\n",
       "      <td>3</td>\n",
       "      <td>1.0</td>\n",
       "      <td>3.0</td>\n",
       "      <td>1.0</td>\n",
       "      <td>2</td>\n",
       "      <td>12400.01</td>\n",
       "      <td>1</td>\n",
       "      <td>131</td>\n",
       "      <td>1.51</td>\n",
       "      <td>138.0</td>\n",
       "      <td>46.0</td>\n",
       "      <td>132.0</td>\n",
       "      <td>44.0</td>\n",
       "      <td>83.4</td>\n",
       "      <td>170.1</td>\n",
       "      <td>28.8</td>\n",
       "      <td>35.6</td>\n",
       "      <td>37.0</td>\n",
       "      <td>31.0</td>\n",
       "      <td>116.5</td>\n",
       "      <td>2.0</td>\n",
       "    </tr>\n",
       "    <tr>\n",
       "      <th>3</th>\n",
       "      <td>83735</td>\n",
       "      <td>2.0</td>\n",
       "      <td>1.0</td>\n",
       "      <td>1.0</td>\n",
       "      <td>2</td>\n",
       "      <td>2</td>\n",
       "      <td>56</td>\n",
       "      <td>3</td>\n",
       "      <td>1.0</td>\n",
       "      <td>5.0</td>\n",
       "      <td>6.0</td>\n",
       "      <td>1</td>\n",
       "      <td>102718.00</td>\n",
       "      <td>1</td>\n",
       "      <td>131</td>\n",
       "      <td>5.00</td>\n",
       "      <td>132.0</td>\n",
       "      <td>72.0</td>\n",
       "      <td>134.0</td>\n",
       "      <td>68.0</td>\n",
       "      <td>109.8</td>\n",
       "      <td>160.9</td>\n",
       "      <td>42.4</td>\n",
       "      <td>38.5</td>\n",
       "      <td>37.7</td>\n",
       "      <td>38.3</td>\n",
       "      <td>110.1</td>\n",
       "      <td>2.0</td>\n",
       "    </tr>\n",
       "    <tr>\n",
       "      <th>4</th>\n",
       "      <td>83736</td>\n",
       "      <td>2.0</td>\n",
       "      <td>1.0</td>\n",
       "      <td>1.0</td>\n",
       "      <td>2</td>\n",
       "      <td>2</td>\n",
       "      <td>42</td>\n",
       "      <td>4</td>\n",
       "      <td>1.0</td>\n",
       "      <td>4.0</td>\n",
       "      <td>3.0</td>\n",
       "      <td>5</td>\n",
       "      <td>17627.67</td>\n",
       "      <td>2</td>\n",
       "      <td>126</td>\n",
       "      <td>1.23</td>\n",
       "      <td>100.0</td>\n",
       "      <td>70.0</td>\n",
       "      <td>114.0</td>\n",
       "      <td>54.0</td>\n",
       "      <td>55.2</td>\n",
       "      <td>164.9</td>\n",
       "      <td>20.3</td>\n",
       "      <td>37.4</td>\n",
       "      <td>36.0</td>\n",
       "      <td>27.2</td>\n",
       "      <td>80.4</td>\n",
       "      <td>2.0</td>\n",
       "    </tr>\n",
       "  </tbody>\n",
       "</table>\n",
       "</div>"
      ],
      "text/plain": [
       "    SEQN  ALQ101  ALQ110  ALQ130  SMQ020  RIAGENDR  RIDAGEYR  RIDRETH1  \\\n",
       "0  83732     1.0     NaN     1.0       1         1        62         3   \n",
       "1  83733     1.0     NaN     6.0       1         1        53         3   \n",
       "2  83734     1.0     NaN     NaN       1         1        78         3   \n",
       "3  83735     2.0     1.0     1.0       2         2        56         3   \n",
       "4  83736     2.0     1.0     1.0       2         2        42         4   \n",
       "\n",
       "   DMDCITZN  DMDEDUC2  DMDMARTL  DMDHHSIZ   WTINT2YR  SDMVPSU  SDMVSTRA  \\\n",
       "0       1.0       5.0       1.0         2  134671.37        1       125   \n",
       "1       2.0       3.0       3.0         1   24328.56        1       125   \n",
       "2       1.0       3.0       1.0         2   12400.01        1       131   \n",
       "3       1.0       5.0       6.0         1  102718.00        1       131   \n",
       "4       1.0       4.0       3.0         5   17627.67        2       126   \n",
       "\n",
       "   INDFMPIR  BPXSY1  BPXDI1  BPXSY2  BPXDI2  BMXWT  BMXHT  BMXBMI  BMXLEG  \\\n",
       "0      4.39   128.0    70.0   124.0    64.0   94.8  184.5    27.8    43.3   \n",
       "1      1.32   146.0    88.0   140.0    88.0   90.4  171.4    30.8    38.0   \n",
       "2      1.51   138.0    46.0   132.0    44.0   83.4  170.1    28.8    35.6   \n",
       "3      5.00   132.0    72.0   134.0    68.0  109.8  160.9    42.4    38.5   \n",
       "4      1.23   100.0    70.0   114.0    54.0   55.2  164.9    20.3    37.4   \n",
       "\n",
       "   BMXARML  BMXARMC  BMXWAIST  HIQ210  \n",
       "0     43.6     35.9     101.1     2.0  \n",
       "1     40.0     33.2     107.9     NaN  \n",
       "2     37.0     31.0     116.5     2.0  \n",
       "3     37.7     38.3     110.1     2.0  \n",
       "4     36.0     27.2      80.4     2.0  "
      ]
     },
     "execution_count": 3,
     "metadata": {},
     "output_type": "execute_result"
    }
   ],
   "source": [
    "df.head()"
   ]
  },
  {
   "cell_type": "code",
   "execution_count": 4,
   "metadata": {},
   "outputs": [
    {
     "name": "stdout",
     "output_type": "stream",
     "text": [
      "<class 'pandas.core.frame.DataFrame'>\n",
      "RangeIndex: 5735 entries, 0 to 5734\n",
      "Data columns (total 28 columns):\n",
      " #   Column    Non-Null Count  Dtype  \n",
      "---  ------    --------------  -----  \n",
      " 0   SEQN      5735 non-null   int64  \n",
      " 1   ALQ101    5208 non-null   float64\n",
      " 2   ALQ110    1731 non-null   float64\n",
      " 3   ALQ130    3379 non-null   float64\n",
      " 4   SMQ020    5735 non-null   int64  \n",
      " 5   RIAGENDR  5735 non-null   int64  \n",
      " 6   RIDAGEYR  5735 non-null   int64  \n",
      " 7   RIDRETH1  5735 non-null   int64  \n",
      " 8   DMDCITZN  5734 non-null   float64\n",
      " 9   DMDEDUC2  5474 non-null   float64\n",
      " 10  DMDMARTL  5474 non-null   float64\n",
      " 11  DMDHHSIZ  5735 non-null   int64  \n",
      " 12  WTINT2YR  5735 non-null   float64\n",
      " 13  SDMVPSU   5735 non-null   int64  \n",
      " 14  SDMVSTRA  5735 non-null   int64  \n",
      " 15  INDFMPIR  5134 non-null   float64\n",
      " 16  BPXSY1    5401 non-null   float64\n",
      " 17  BPXDI1    5401 non-null   float64\n",
      " 18  BPXSY2    5535 non-null   float64\n",
      " 19  BPXDI2    5535 non-null   float64\n",
      " 20  BMXWT     5666 non-null   float64\n",
      " 21  BMXHT     5673 non-null   float64\n",
      " 22  BMXBMI    5662 non-null   float64\n",
      " 23  BMXLEG    5345 non-null   float64\n",
      " 24  BMXARML   5427 non-null   float64\n",
      " 25  BMXARMC   5427 non-null   float64\n",
      " 26  BMXWAIST  5368 non-null   float64\n",
      " 27  HIQ210    4732 non-null   float64\n",
      "dtypes: float64(20), int64(8)\n",
      "memory usage: 1.2 MB\n"
     ]
    }
   ],
   "source": [
    "df.info()"
   ]
  },
  {
   "attachments": {},
   "cell_type": "markdown",
   "metadata": {},
   "source": [
    "## Question 1\n",
    "\n",
    "### Restrict the sample to women between 35 and 50, then use the marital status variable [DMDMARTL](https://wwwn.cdc.gov/Nchs/Nhanes/2015-2016/DEMO_I.htm#DMDMARTL) to partition this sample into two groups - women who are currently married, and women who are not currently married.  Within each of these groups, calculate the proportion of women who have completed college.  Calculate 95% confidence intervals for each of these proportions."
   ]
  },
  {
   "cell_type": "code",
   "execution_count": 5,
   "metadata": {},
   "outputs": [
    {
     "data": {
      "text/plain": [
       "count    1451.000000\n",
       "mean       42.379049\n",
       "std         4.612242\n",
       "min        35.000000\n",
       "25%        38.000000\n",
       "50%        42.000000\n",
       "75%        46.000000\n",
       "max        50.000000\n",
       "Name: RIDAGEYR, dtype: float64"
      ]
     },
     "execution_count": 5,
     "metadata": {},
     "output_type": "execute_result"
    }
   ],
   "source": [
    "# getting sample of data for ages 35 to 50\n",
    "df_35to50 = df.query(\"RIDAGEYR >= 35 & RIDAGEYR <= 50\")\n",
    "\n",
    "df_35to50['RIDAGEYR'].describe()"
   ]
  },
  {
   "cell_type": "code",
   "execution_count": 6,
   "metadata": {},
   "outputs": [],
   "source": [
    "# getting only females\n",
    "df_35to50_FEM = df_35to50.query(\"RIAGENDR == 2\")"
   ]
  },
  {
   "cell_type": "code",
   "execution_count": 7,
   "metadata": {},
   "outputs": [
    {
     "data": {
      "text/plain": [
       "array([3., 1., 4., 5., 6., 2.])"
      ]
     },
     "execution_count": 7,
     "metadata": {},
     "output_type": "execute_result"
    }
   ],
   "source": [
    "df_35to50_FEM.DMDMARTL.unique()"
   ]
  },
  {
   "cell_type": "code",
   "execution_count": 8,
   "metadata": {},
   "outputs": [
    {
     "data": {
      "text/plain": [
       "array(['Not Married', 'Curr. Married'], dtype=object)"
      ]
     },
     "execution_count": 8,
     "metadata": {},
     "output_type": "execute_result"
    }
   ],
   "source": [
    "# splitting DMDMARTL into currently married and not married\n",
    "maritalStat = {1:'Curr. Married', 2:'Not Married', 3:'Not Married', 4:'Not Married',\n",
    "               5:'Not Married', 6:'Not Married'}\n",
    "df_35to50_FEM['DMDMARTLx'] = df_35to50_FEM.DMDMARTL.replace(maritalStat)\n",
    "\n",
    "# adding meaning to DMDEDUC2 column\n",
    "df_35to50_FEM[\"DMDEDUC2x\"] = df_35to50_FEM.DMDEDUC2.replace({1: \"Non College Grad\", 2: \"Non College Grad\", 3: \"Non College Grad\", 4: \"Non College Grad\", 5: \"College Grad\", \n",
    "                                                             7: \"Non College Grad\", 9: \"Non College Grad\"})\n",
    "\n",
    "df_35to50_FEM.DMDMARTLx.unique()"
   ]
  },
  {
   "cell_type": "code",
   "execution_count": 9,
   "metadata": {},
   "outputs": [
    {
     "data": {
      "text/plain": [
       "DMDMARTLx\n",
       "Curr. Married    449\n",
       "Not Married      338\n",
       "dtype: int64"
      ]
     },
     "execution_count": 9,
     "metadata": {},
     "output_type": "execute_result"
    }
   ],
   "source": [
    "# Calculate the count per category\n",
    "n = pd.crosstab(df_35to50_FEM.DMDMARTLx, df_35to50_FEM.DMDEDUC2x).sum(axis=1)\n",
    "n"
   ]
  },
  {
   "cell_type": "code",
   "execution_count": 10,
   "metadata": {},
   "outputs": [
    {
     "data": {
      "text/html": [
       "<div>\n",
       "<style scoped>\n",
       "    .dataframe tbody tr th:only-of-type {\n",
       "        vertical-align: middle;\n",
       "    }\n",
       "\n",
       "    .dataframe tbody tr th {\n",
       "        vertical-align: top;\n",
       "    }\n",
       "\n",
       "    .dataframe thead th {\n",
       "        text-align: right;\n",
       "    }\n",
       "</style>\n",
       "<table border=\"1\" class=\"dataframe\">\n",
       "  <thead>\n",
       "    <tr style=\"text-align: right;\">\n",
       "      <th>DMDEDUC2x</th>\n",
       "      <th>College Grad</th>\n",
       "      <th>Non College Grad</th>\n",
       "    </tr>\n",
       "    <tr>\n",
       "      <th>DMDMARTLx</th>\n",
       "      <th></th>\n",
       "      <th></th>\n",
       "    </tr>\n",
       "  </thead>\n",
       "  <tbody>\n",
       "    <tr>\n",
       "      <th>Curr. Married</th>\n",
       "      <td>0.360802</td>\n",
       "      <td>0.639198</td>\n",
       "    </tr>\n",
       "    <tr>\n",
       "      <th>Not Married</th>\n",
       "      <td>0.213018</td>\n",
       "      <td>0.786982</td>\n",
       "    </tr>\n",
       "  </tbody>\n",
       "</table>\n",
       "</div>"
      ],
      "text/plain": [
       "DMDEDUC2x      College Grad  Non College Grad\n",
       "DMDMARTLx                                    \n",
       "Curr. Married      0.360802          0.639198\n",
       "Not Married        0.213018          0.786982"
      ]
     },
     "execution_count": 10,
     "metadata": {},
     "output_type": "execute_result"
    }
   ],
   "source": [
    "# Calculate the proportion that completed college\n",
    "p = pd.crosstab(df_35to50_FEM.DMDMARTLx, df_35to50_FEM.DMDEDUC2x, normalize='index')\n",
    "p"
   ]
  },
  {
   "attachments": {},
   "cell_type": "markdown",
   "metadata": {},
   "source": [
    "From our data, the percentage of females between the ages of 35-50 that are married and have completed their college degrees is 36% while for those that are not married, just 21% of them are college graduates."
   ]
  },
  {
   "cell_type": "code",
   "execution_count": 11,
   "metadata": {},
   "outputs": [
    {
     "data": {
      "text/plain": [
       "(0.02266360248455356, 0.022270605048202215)"
      ]
     },
     "execution_count": 11,
     "metadata": {},
     "output_type": "execute_result"
    }
   ],
   "source": [
    "# calculate standard errors for 'Curr. Married' and 'Not Married' distributions\n",
    "se_married = np.sqrt(p.iloc[0,0] * (1 - p.iloc[0,0]) / n[0])\n",
    "se_notMarried = np.sqrt(p.iloc[1,0] * (1 - p.iloc[1,0]) / n[1])\n",
    "\n",
    "(se_married, se_notMarried)"
   ]
  },
  {
   "cell_type": "code",
   "execution_count": 12,
   "metadata": {},
   "outputs": [
    {
     "name": "stdout",
     "output_type": "stream",
     "text": [
      "Currently Married\n",
      "Lower Boundary:  0.3163811208674688\n",
      "Upper Boundary:  0.4052224426069187\n",
      "\n",
      "Not Married\n",
      "Lower Boundary:  0.1693673655848136\n",
      "Upper Boundary:  0.25666813737376626\n"
     ]
    }
   ],
   "source": [
    "# manual calculation\n",
    "print(\"Currently Married\")\n",
    "print('Lower Boundary: ', p.iloc[0,0]-1.96*se_married)\n",
    "print('Upper Boundary: ', p.iloc[0,0]+1.96*se_married)\n",
    "print(\"\\nNot Married\")\n",
    "print('Lower Boundary: ', p.iloc[1,0]-1.96*se_notMarried)\n",
    "print('Upper Boundary: ', p.iloc[1,0]+1.96*se_notMarried)"
   ]
  },
  {
   "cell_type": "code",
   "execution_count": 13,
   "metadata": {},
   "outputs": [
    {
     "name": "stdout",
     "output_type": "stream",
     "text": [
      "Curr. Married\n",
      "0.31638193710753626, 0.4052216263668512\n",
      "\n",
      "Not Married\n",
      "0.16936816767089768, 0.2566673352876822\n"
     ]
    }
   ],
   "source": [
    "# using proportion_confint to calculate a 95% confidence interval\n",
    "print('Curr. Married')\n",
    "## proportion_confint(no of successes, total no of trial)\n",
    "ci_low, ci_upp = proportion_confint(p.iloc[0,0]*n[0], n[0], alpha=0.05, method='normal')\n",
    "print(f\"{ci_low}, {ci_upp}\")\n",
    "\n",
    "print('\\nNot Married')\n",
    "ci_low, ci_upp = proportion_confint(p.iloc[1,0]*n[1], n[1], alpha=0.05, method='normal')\n",
    "print(f\"{ci_low}, {ci_upp}\")"
   ]
  },
  {
   "attachments": {},
   "cell_type": "markdown",
   "metadata": {},
   "source": [
    "#### Q1a. Identify which of the two confidence intervals is wider, and explain why this is the case. "
   ]
  },
  {
   "attachments": {},
   "cell_type": "markdown",
   "metadata": {},
   "source": [
    "The confidence interval for unmarried women with a college degree (0.169 to 0.257) is wider than the confidence interval for currently married women with a college degree (0.316 to 0.405).\n",
    "\n",
    "The width of a confidence interval is determined by several factors, including the sample size and the proportion of the sample with the characteristic of interest. In this case, the sample size for unmarried women (n = 338) is smaller than the sample size for currently married women (n = 449), which tends to result in wider confidence intervals. Additionally, the proportion of unmarried women with a college degree (p = 0.21) is lower than the proportion of currently married women with a college degree (p = 0.36), which also contributes to a wider confidence interval. The wider interval for the unmarried women suggests that we have less certainty about the true proportion of unmarried women with a college degree compared to the proportion of currently married women with a college degree."
   ]
  },
  {
   "attachments": {},
   "cell_type": "markdown",
   "metadata": {},
   "source": [
    "#### Q1b. Write 1-2 sentences summarizing these findings for an audience that does not know what a confidence interval is (the goal here is to report the substance of what you learned about how marital status and educational attainment are related, not to teach a person what a confidence interval is)."
   ]
  },
  {
   "attachments": {},
   "cell_type": "markdown",
   "metadata": {},
   "source": [
    "The findings suggest that among the sample of women aged 35 to 50 years old, a higher proportion of currently married women have completed college compared to unmarried women. The confidence intervals indicate that we are 95% confident that the true proportion of currently married women with a college education falls between 32% and 41%, while the true proportion of unmarried women with a college education falls between 17% and 26%.\n",
    "\n",
    "The difference in proportions between the two groups may be attributed to a variety of factors. For example, married women may have more financial support from their spouse, allowing them to pursue higher education. Alternatively, unmarried women may face greater challenges in balancing their education with other responsibilities such as work or caring for children."
   ]
  },
  {
   "attachments": {},
   "cell_type": "markdown",
   "metadata": {},
   "source": [
    "## Question 2\n",
    "\n",
    "### Construct a 95% confidence interval for the proportion of smokers who are female. Construct a 95% confidence interval for the proportion of smokers who are male. Construct a 95% confidence interval for the **difference** between those two gender proportions."
   ]
  },
  {
   "cell_type": "code",
   "execution_count": 14,
   "metadata": {},
   "outputs": [
    {
     "data": {
      "text/plain": [
       "array([1, 2, 7, 9], dtype=int64)"
      ]
     },
     "execution_count": 14,
     "metadata": {},
     "output_type": "execute_result"
    }
   ],
   "source": [
    "df.SMQ020.unique()"
   ]
  },
  {
   "cell_type": "code",
   "execution_count": 15,
   "metadata": {},
   "outputs": [],
   "source": [
    "# '1' represents those who selected 'Yes' to having smoked at least 100 cigarettes\n",
    "# in life\n",
    "df_smokers = df.query(\"SMQ020 == 1\")\n",
    "df_smokers.reset_index(inplace=True, drop=True)"
   ]
  },
  {
   "cell_type": "code",
   "execution_count": 16,
   "metadata": {},
   "outputs": [
    {
     "data": {
      "text/plain": [
       "0"
      ]
     },
     "execution_count": 16,
     "metadata": {},
     "output_type": "execute_result"
    }
   ],
   "source": [
    "smokers_gender = df_smokers['RIAGENDR']\n",
    "\n",
    "# calculate number of null values\n",
    "smokers_gender.isna().sum()"
   ]
  },
  {
   "cell_type": "code",
   "execution_count": 17,
   "metadata": {},
   "outputs": [
    {
     "data": {
      "text/plain": [
       "(2319, 1413, 906)"
      ]
     },
     "execution_count": 17,
     "metadata": {},
     "output_type": "execute_result"
    }
   ],
   "source": [
    "n_smokers = len(smokers_gender)\n",
    "n_smokers_Male = sum(smokers_gender==1)\n",
    "n_smokers_Female = sum(smokers_gender==2)\n",
    "\n",
    "(n_smokers, n_smokers_Male, n_smokers_Female)"
   ]
  },
  {
   "cell_type": "code",
   "execution_count": 18,
   "metadata": {},
   "outputs": [
    {
     "data": {
      "text/plain": [
       "(0.6093143596377749, 0.3906856403622251)"
      ]
     },
     "execution_count": 18,
     "metadata": {},
     "output_type": "execute_result"
    }
   ],
   "source": [
    "prop_smokersMale = n_smokers_Male/n_smokers\n",
    "prop_smokersFemale = n_smokers_Female/n_smokers\n",
    "\n",
    "(prop_smokersMale, prop_smokersFemale)"
   ]
  },
  {
   "cell_type": "code",
   "execution_count": 19,
   "metadata": {},
   "outputs": [
    {
     "data": {
      "text/plain": [
       "(0.012979661011895138, 0.016209526631489866)"
      ]
     },
     "execution_count": 19,
     "metadata": {},
     "output_type": "execute_result"
    }
   ],
   "source": [
    "se_smokersMale = np.sqrt(prop_smokersMale * (1 - prop_smokersMale) / n_smokers_Male)\n",
    "se_smokersFemale = np.sqrt(prop_smokersFemale * (1 - prop_smokersFemale) / n_smokers_Female)\n",
    "\n",
    "(se_smokersMale, se_smokersFemale)"
   ]
  },
  {
   "cell_type": "code",
   "execution_count": 20,
   "metadata": {},
   "outputs": [
    {
     "name": "stdout",
     "output_type": "stream",
     "text": [
      "Male Smokers\n",
      "Lower Boundary:  0.5838742240544604\n",
      "Upper Boundary:  0.6347544952210894\n",
      "\n",
      "Female Smokers\n",
      "Lower Boundary:  0.35891496816450497\n",
      "Upper Boundary:  0.4224563125599452\n"
     ]
    }
   ],
   "source": [
    "# manual calculation\n",
    "print(\"Male Smokers\")\n",
    "print('Lower Boundary: ', prop_smokersMale-1.96*se_smokersMale)\n",
    "print('Upper Boundary: ', prop_smokersMale+1.96*se_smokersMale)\n",
    "print(\"\\nFemale Smokers\")\n",
    "print('Lower Boundary: ', prop_smokersFemale-1.96*se_smokersFemale)\n",
    "print('Upper Boundary: ', prop_smokersFemale+1.96*se_smokersFemale)"
   ]
  },
  {
   "cell_type": "code",
   "execution_count": 21,
   "metadata": {},
   "outputs": [
    {
     "name": "stdout",
     "output_type": "stream",
     "text": [
      "Male Smokers\n",
      "0.5894565132052486, 0.6291722060703012\n",
      "\n",
      "Female Smokers\n",
      "0.37082779392969883, 0.41054348679475133\n"
     ]
    }
   ],
   "source": [
    "# using proportion_confint to calculate a 95% confidence interval\n",
    "print('Male Smokers')\n",
    "## proportion_confint(no of successes, total no of trial)\n",
    "ci_low, ci_upp = proportion_confint(n_smokers_Male, n_smokers, alpha=0.05, method='normal')\n",
    "print(f\"{ci_low}, {ci_upp}\")\n",
    "\n",
    "print('\\nFemale Smokers')\n",
    "ci_low, ci_upp = proportion_confint(n_smokers_Female, n_smokers, alpha=0.05, method='normal')\n",
    "print(f\"{ci_low}, {ci_upp}\")"
   ]
  },
  {
   "cell_type": "code",
   "execution_count": 27,
   "metadata": {},
   "outputs": [
    {
     "data": {
      "text/plain": [
       "0.020765845843612775"
      ]
     },
     "execution_count": 27,
     "metadata": {},
     "output_type": "execute_result"
    }
   ],
   "source": [
    "## calculating the 95% confidence interval for the difference between\n",
    "## the male proportion and the female proportion\n",
    "\n",
    "se_diff = np.sqrt(se_smokersMale**2 + se_smokersFemale**2)\n",
    "se_diff"
   ]
  },
  {
   "cell_type": "code",
   "execution_count": 28,
   "metadata": {},
   "outputs": [
    {
     "data": {
      "text/plain": [
       "0.21862871927554983"
      ]
     },
     "execution_count": 28,
     "metadata": {},
     "output_type": "execute_result"
    }
   ],
   "source": [
    "prop_diff = prop_smokersMale - prop_smokersFemale\n",
    "prop_diff"
   ]
  },
  {
   "cell_type": "code",
   "execution_count": 34,
   "metadata": {},
   "outputs": [
    {
     "name": "stdout",
     "output_type": "stream",
     "text": [
      "CI for Prop Difference Between Both Genders\n",
      "Lower Boundary:  0.17792766142206878\n",
      "Upper Boundary:  0.2593297771290309\n",
      "Width of CI:  0.08140211570696207\n"
     ]
    }
   ],
   "source": [
    "print(\"CI for Prop Difference Between Both Genders\")\n",
    "print('Lower Boundary: ', prop_diff-1.96*se_diff)\n",
    "print('Upper Boundary: ', prop_diff+1.96*se_diff)\n",
    "print(\"Width of CI: \", 2*1.96*se_diff)"
   ]
  },
  {
   "attachments": {},
   "cell_type": "markdown",
   "metadata": {},
   "source": [
    "#### Q2a. Why might it be relevant to report the separate gender proportions **and** the difference between the gender proportions?"
   ]
  },
  {
   "attachments": {},
   "cell_type": "markdown",
   "metadata": {},
   "source": [
    "Reporting separate gender proportions and the difference between them is relevant because it provides a more detailed understanding of the characteristics of the population being studied. In this case, the NHANES dataset includes information about both male and female smokers, so it is important to report the proportion of smokers who are female and the proportion of smokers who are male separately. This information can help identify potential gender-related differences in smoking behavior.\n",
    "\n",
    "Additionally, reporting the difference between the two gender proportions allows for a direct comparison of the smoking behavior between males and females. If the difference is statistically significant, it suggests that there may be a meaningful difference in smoking behavior between the two groups.\n",
    "\n",
    "Furthermore, the confidence intervals provide a range of plausible values for each proportion and the difference between them. This range can be used to assess the precision of the estimates and to help draw conclusions about the population being studied."
   ]
  },
  {
   "attachments": {},
   "cell_type": "markdown",
   "metadata": {},
   "source": [
    "#### Q2b. How does the **width** of the confidence interval for the difference between the gender proportions compare to the widths of the confidence intervals for the separate gender proportions?"
   ]
  },
  {
   "attachments": {},
   "cell_type": "markdown",
   "metadata": {},
   "source": [
    "The confidence interval for the difference of the two proportions is wider than the confidence intervals for each proportion separately"
   ]
  },
  {
   "attachments": {},
   "cell_type": "markdown",
   "metadata": {},
   "source": [
    "## Question 3\n",
    "\n",
    "### Construct a 95% interval for height ([BMXHT](https://wwwn.cdc.gov/Nchs/Nhanes/2015-2016/BMX_I.htm#BMXHT)) in centimeters.  Then convert height from centimeters to inches by dividing by 2.54, and construct a 95% confidence interval for height in inches.  Finally, convert the endpoints (the lower and upper confidence limits) of the confidence interval from inches to back to centimeters   "
   ]
  },
  {
   "cell_type": "code",
   "execution_count": 35,
   "metadata": {},
   "outputs": [],
   "source": [
    "heightValues_cm = df['BMXHT']"
   ]
  },
  {
   "cell_type": "code",
   "execution_count": 44,
   "metadata": {},
   "outputs": [
    {
     "data": {
      "text/plain": [
       "62"
      ]
     },
     "execution_count": 44,
     "metadata": {},
     "output_type": "execute_result"
    }
   ],
   "source": [
    "heightValues_cm.isna().sum()"
   ]
  },
  {
   "cell_type": "code",
   "execution_count": 46,
   "metadata": {},
   "outputs": [],
   "source": [
    "heightValues_cm = heightValues_cm.dropna()\n",
    "heightValues_cm.reset_index(inplace=True, drop=True)"
   ]
  },
  {
   "cell_type": "code",
   "execution_count": 48,
   "metadata": {},
   "outputs": [
    {
     "data": {
      "image/png": "[encoded data removed]",
      "text/plain": [
       "<Figure size 640x480 with 1 Axes>"
      ]
     },
     "metadata": {},
     "output_type": "display_data"
    }
   ],
   "source": [
    "sns.histplot(heightValues_cm, kde=True, edgecolor=None);"
   ]
  },
  {
   "cell_type": "code",
   "execution_count": 49,
   "metadata": {},
   "outputs": [
    {
     "data": {
      "text/plain": [
       "(166.14283447911131, 10.078375319383905)"
      ]
     },
     "execution_count": 49,
     "metadata": {},
     "output_type": "execute_result"
    }
   ],
   "source": [
    "heightValues_cm_mean = np.mean(heightValues_cm)\n",
    "heightValues_cm_std = np.std(heightValues_cm)\n",
    "\n",
    "(heightValues_cm_mean, heightValues_cm_std)"
   ]
  },
  {
   "cell_type": "code",
   "execution_count": 50,
   "metadata": {},
   "outputs": [
    {
     "data": {
      "text/plain": [
       "(65.41056475555557, 3.9678642989700457)"
      ]
     },
     "execution_count": 50,
     "metadata": {},
     "output_type": "execute_result"
    }
   ],
   "source": [
    "# converting cm to in\n",
    "heightValues_in = heightValues_cm/2.54\n",
    "\n",
    "heightValues_in_mean = np.mean(heightValues_in)\n",
    "heightValues_in_std = np.std(heightValues_in)\n",
    "\n",
    "(heightValues_in_mean, heightValues_in_std)"
   ]
  },
  {
   "cell_type": "code",
   "execution_count": 53,
   "metadata": {},
   "outputs": [
    {
     "name": "stdout",
     "output_type": "stream",
     "text": [
      "Lower Boundary Inches:  65.30731084935765\n",
      "Upper Boundary Inches:  65.51381866175349\n"
     ]
    }
   ],
   "source": [
    "lcb = heightValues_in_mean - 1.96*(heightValues_in_std/np.sqrt(len(heightValues_in)))\n",
    "ucb = heightValues_in_mean + 1.96*(heightValues_in_std/np.sqrt(len(heightValues_in)))\n",
    "\n",
    "print('Lower Boundary Inches: ', lcb)\n",
    "print('Upper Boundary Inches: ', ucb)"
   ]
  },
  {
   "cell_type": "code",
   "execution_count": 55,
   "metadata": {},
   "outputs": [
    {
     "name": "stdout",
     "output_type": "stream",
     "text": [
      "Lower Boundary Centimeters:  165.88056955736843\n",
      "Upper Boundary Centimeters:  166.40509940085386\n"
     ]
    }
   ],
   "source": [
    "print('Lower Boundary Centimeters: ', lcb*2.54)\n",
    "print('Upper Boundary Centimeters: ', ucb*2.54)"
   ]
  },
  {
   "cell_type": "code",
   "execution_count": 56,
   "metadata": {},
   "outputs": [
    {
     "data": {
      "text/plain": [
       "(165.8804952776014, 166.40517368062174)"
      ]
     },
     "execution_count": 56,
     "metadata": {},
     "output_type": "execute_result"
    }
   ],
   "source": [
    "# compare to calculate val\n",
    "sm.stats.DescrStatsW(heightValues_cm).tconfint_mean()"
   ]
  },
  {
   "attachments": {},
   "cell_type": "markdown",
   "metadata": {},
   "source": [
    "#### Q3a. Describe how the confidence interval constructed in centimeters relates to the confidence interval constructed in inches."
   ]
  },
  {
   "attachments": {},
   "cell_type": "markdown",
   "metadata": {},
   "source": [
    "Both confidence intervals are very narrow and the sample mean of inches and cms fall inside the population confidence interval."
   ]
  },
  {
   "attachments": {},
   "cell_type": "markdown",
   "metadata": {},
   "source": [
    "## Question 4\n",
    "\n",
    "### Partition the sample based on 10-year age bands, i.e. the resulting groups will consist of people with ages from 18-28, 29-38, etc. Construct 95% confidence intervals for the difference between the mean BMI for females and for males within each age band."
   ]
  },
  {
   "cell_type": "code",
   "execution_count": 58,
   "metadata": {},
   "outputs": [],
   "source": [
    "df['RIAGENDRx'] = df.RIAGENDR.replace({1:'Male', 2:'Female'})"
   ]
  },
  {
   "cell_type": "code",
   "execution_count": 65,
   "metadata": {},
   "outputs": [
    {
     "data": {
      "text/html": [
       "<div>\n",
       "<style scoped>\n",
       "    .dataframe tbody tr th:only-of-type {\n",
       "        vertical-align: middle;\n",
       "    }\n",
       "\n",
       "    .dataframe tbody tr th {\n",
       "        vertical-align: top;\n",
       "    }\n",
       "\n",
       "    .dataframe thead tr th {\n",
       "        text-align: left;\n",
       "    }\n",
       "\n",
       "    .dataframe thead tr:last-of-type th {\n",
       "        text-align: right;\n",
       "    }\n",
       "</style>\n",
       "<table border=\"1\" class=\"dataframe\">\n",
       "  <thead>\n",
       "    <tr>\n",
       "      <th></th>\n",
       "      <th></th>\n",
       "      <th colspan=\"3\" halign=\"left\">BMXBMI</th>\n",
       "    </tr>\n",
       "    <tr>\n",
       "      <th></th>\n",
       "      <th></th>\n",
       "      <th>mean</th>\n",
       "      <th>std</th>\n",
       "      <th>size</th>\n",
       "    </tr>\n",
       "    <tr>\n",
       "      <th>agegrp</th>\n",
       "      <th>RIAGENDRx</th>\n",
       "      <th></th>\n",
       "      <th></th>\n",
       "      <th></th>\n",
       "    </tr>\n",
       "  </thead>\n",
       "  <tbody>\n",
       "    <tr>\n",
       "      <th rowspan=\"2\" valign=\"top\">18-28</th>\n",
       "      <th>Female</th>\n",
       "      <td>28.019433</td>\n",
       "      <td>8.048854</td>\n",
       "      <td>498</td>\n",
       "    </tr>\n",
       "    <tr>\n",
       "      <th>Male</th>\n",
       "      <td>27.058186</td>\n",
       "      <td>6.679515</td>\n",
       "      <td>458</td>\n",
       "    </tr>\n",
       "    <tr>\n",
       "      <th rowspan=\"2\" valign=\"top\">29-38</th>\n",
       "      <th>Female</th>\n",
       "      <td>29.943443</td>\n",
       "      <td>7.959097</td>\n",
       "      <td>494</td>\n",
       "    </tr>\n",
       "    <tr>\n",
       "      <th>Male</th>\n",
       "      <td>29.697180</td>\n",
       "      <td>6.726690</td>\n",
       "      <td>467</td>\n",
       "    </tr>\n",
       "    <tr>\n",
       "      <th rowspan=\"2\" valign=\"top\">39-48</th>\n",
       "      <th>Female</th>\n",
       "      <td>31.003733</td>\n",
       "      <td>8.044642</td>\n",
       "      <td>514</td>\n",
       "    </tr>\n",
       "    <tr>\n",
       "      <th>Male</th>\n",
       "      <td>29.514646</td>\n",
       "      <td>6.104950</td>\n",
       "      <td>398</td>\n",
       "    </tr>\n",
       "    <tr>\n",
       "      <th rowspan=\"2\" valign=\"top\">49-58</th>\n",
       "      <th>Female</th>\n",
       "      <td>30.787361</td>\n",
       "      <td>7.647590</td>\n",
       "      <td>454</td>\n",
       "    </tr>\n",
       "    <tr>\n",
       "      <th>Male</th>\n",
       "      <td>29.385132</td>\n",
       "      <td>6.151534</td>\n",
       "      <td>419</td>\n",
       "    </tr>\n",
       "    <tr>\n",
       "      <th rowspan=\"2\" valign=\"top\">59-68</th>\n",
       "      <th>Female</th>\n",
       "      <td>31.054664</td>\n",
       "      <td>7.779502</td>\n",
       "      <td>466</td>\n",
       "    </tr>\n",
       "    <tr>\n",
       "      <th>Male</th>\n",
       "      <td>29.232462</td>\n",
       "      <td>5.959024</td>\n",
       "      <td>470</td>\n",
       "    </tr>\n",
       "    <tr>\n",
       "      <th rowspan=\"2\" valign=\"top\">69-78</th>\n",
       "      <th>Female</th>\n",
       "      <td>30.537818</td>\n",
       "      <td>6.780588</td>\n",
       "      <td>279</td>\n",
       "    </tr>\n",
       "    <tr>\n",
       "      <th>Male</th>\n",
       "      <td>28.720270</td>\n",
       "      <td>5.336652</td>\n",
       "      <td>307</td>\n",
       "    </tr>\n",
       "    <tr>\n",
       "      <th rowspan=\"2\" valign=\"top\">79-88</th>\n",
       "      <th>Female</th>\n",
       "      <td>27.850000</td>\n",
       "      <td>5.483781</td>\n",
       "      <td>201</td>\n",
       "    </tr>\n",
       "    <tr>\n",
       "      <th>Male</th>\n",
       "      <td>27.464368</td>\n",
       "      <td>4.695650</td>\n",
       "      <td>177</td>\n",
       "    </tr>\n",
       "  </tbody>\n",
       "</table>\n",
       "</div>"
      ],
      "text/plain": [
       "                     BMXBMI               \n",
       "                       mean       std size\n",
       "agegrp RIAGENDRx                          \n",
       "18-28  Female     28.019433  8.048854  498\n",
       "       Male       27.058186  6.679515  458\n",
       "29-38  Female     29.943443  7.959097  494\n",
       "       Male       29.697180  6.726690  467\n",
       "39-48  Female     31.003733  8.044642  514\n",
       "       Male       29.514646  6.104950  398\n",
       "49-58  Female     30.787361  7.647590  454\n",
       "       Male       29.385132  6.151534  419\n",
       "59-68  Female     31.054664  7.779502  466\n",
       "       Male       29.232462  5.959024  470\n",
       "69-78  Female     30.537818  6.780588  279\n",
       "       Male       28.720270  5.336652  307\n",
       "79-88  Female     27.850000  5.483781  201\n",
       "       Male       27.464368  4.695650  177"
      ]
     },
     "execution_count": 65,
     "metadata": {},
     "output_type": "execute_result"
    }
   ],
   "source": [
    "# Calculate the mean, SD, and sample size for BMI within age/gender groups\n",
    "labels = ['18-28','29-38','39-48','49-58','59-68','69-78','79-88']\n",
    "df[\"agegrp\"] = pd.cut(x=df.RIDAGEYR, bins=[18, 28, 38, 48, 58, 68, 78, 88],labels=labels)\n",
    "pr = df.groupby([\"agegrp\", \"RIAGENDRx\"]).agg({\"BMXBMI\": [np.mean, np.std, np.size]})\n",
    "pr"
   ]
  },
  {
   "cell_type": "code",
   "execution_count": 66,
   "metadata": {},
   "outputs": [
    {
     "data": {
      "text/html": [
       "<div>\n",
       "<style scoped>\n",
       "    .dataframe tbody tr th:only-of-type {\n",
       "        vertical-align: middle;\n",
       "    }\n",
       "\n",
       "    .dataframe tbody tr th {\n",
       "        vertical-align: top;\n",
       "    }\n",
       "\n",
       "    .dataframe thead tr th {\n",
       "        text-align: left;\n",
       "    }\n",
       "\n",
       "    .dataframe thead tr:last-of-type th {\n",
       "        text-align: right;\n",
       "    }\n",
       "</style>\n",
       "<table border=\"1\" class=\"dataframe\">\n",
       "  <thead>\n",
       "    <tr>\n",
       "      <th></th>\n",
       "      <th colspan=\"6\" halign=\"left\">BMXBMI</th>\n",
       "    </tr>\n",
       "    <tr>\n",
       "      <th></th>\n",
       "      <th colspan=\"2\" halign=\"left\">mean</th>\n",
       "      <th colspan=\"2\" halign=\"left\">std</th>\n",
       "      <th colspan=\"2\" halign=\"left\">size</th>\n",
       "    </tr>\n",
       "    <tr>\n",
       "      <th>RIAGENDRx</th>\n",
       "      <th>Female</th>\n",
       "      <th>Male</th>\n",
       "      <th>Female</th>\n",
       "      <th>Male</th>\n",
       "      <th>Female</th>\n",
       "      <th>Male</th>\n",
       "    </tr>\n",
       "    <tr>\n",
       "      <th>agegrp</th>\n",
       "      <th></th>\n",
       "      <th></th>\n",
       "      <th></th>\n",
       "      <th></th>\n",
       "      <th></th>\n",
       "      <th></th>\n",
       "    </tr>\n",
       "  </thead>\n",
       "  <tbody>\n",
       "    <tr>\n",
       "      <th>18-28</th>\n",
       "      <td>28.019433</td>\n",
       "      <td>27.058186</td>\n",
       "      <td>8.048854</td>\n",
       "      <td>6.679515</td>\n",
       "      <td>498</td>\n",
       "      <td>458</td>\n",
       "    </tr>\n",
       "    <tr>\n",
       "      <th>29-38</th>\n",
       "      <td>29.943443</td>\n",
       "      <td>29.697180</td>\n",
       "      <td>7.959097</td>\n",
       "      <td>6.726690</td>\n",
       "      <td>494</td>\n",
       "      <td>467</td>\n",
       "    </tr>\n",
       "    <tr>\n",
       "      <th>39-48</th>\n",
       "      <td>31.003733</td>\n",
       "      <td>29.514646</td>\n",
       "      <td>8.044642</td>\n",
       "      <td>6.104950</td>\n",
       "      <td>514</td>\n",
       "      <td>398</td>\n",
       "    </tr>\n",
       "    <tr>\n",
       "      <th>49-58</th>\n",
       "      <td>30.787361</td>\n",
       "      <td>29.385132</td>\n",
       "      <td>7.647590</td>\n",
       "      <td>6.151534</td>\n",
       "      <td>454</td>\n",
       "      <td>419</td>\n",
       "    </tr>\n",
       "    <tr>\n",
       "      <th>59-68</th>\n",
       "      <td>31.054664</td>\n",
       "      <td>29.232462</td>\n",
       "      <td>7.779502</td>\n",
       "      <td>5.959024</td>\n",
       "      <td>466</td>\n",
       "      <td>470</td>\n",
       "    </tr>\n",
       "    <tr>\n",
       "      <th>69-78</th>\n",
       "      <td>30.537818</td>\n",
       "      <td>28.720270</td>\n",
       "      <td>6.780588</td>\n",
       "      <td>5.336652</td>\n",
       "      <td>279</td>\n",
       "      <td>307</td>\n",
       "    </tr>\n",
       "    <tr>\n",
       "      <th>79-88</th>\n",
       "      <td>27.850000</td>\n",
       "      <td>27.464368</td>\n",
       "      <td>5.483781</td>\n",
       "      <td>4.695650</td>\n",
       "      <td>201</td>\n",
       "      <td>177</td>\n",
       "    </tr>\n",
       "  </tbody>\n",
       "</table>\n",
       "</div>"
      ],
      "text/plain": [
       "              BMXBMI                                           \n",
       "                mean                  std             size     \n",
       "RIAGENDRx     Female       Male    Female      Male Female Male\n",
       "agegrp                                                         \n",
       "18-28      28.019433  27.058186  8.048854  6.679515    498  458\n",
       "29-38      29.943443  29.697180  7.959097  6.726690    494  467\n",
       "39-48      31.003733  29.514646  8.044642  6.104950    514  398\n",
       "49-58      30.787361  29.385132  7.647590  6.151534    454  419\n",
       "59-68      31.054664  29.232462  7.779502  5.959024    466  470\n",
       "69-78      30.537818  28.720270  6.780588  5.336652    279  307\n",
       "79-88      27.850000  27.464368  5.483781  4.695650    201  177"
      ]
     },
     "execution_count": 66,
     "metadata": {},
     "output_type": "execute_result"
    }
   ],
   "source": [
    "pr = pr.unstack()\n",
    "pr"
   ]
  },
  {
   "cell_type": "code",
   "execution_count": 67,
   "metadata": {},
   "outputs": [
    {
     "data": {
      "text/html": [
       "<div>\n",
       "<style scoped>\n",
       "    .dataframe tbody tr th:only-of-type {\n",
       "        vertical-align: middle;\n",
       "    }\n",
       "\n",
       "    .dataframe tbody tr th {\n",
       "        vertical-align: top;\n",
       "    }\n",
       "\n",
       "    .dataframe thead tr th {\n",
       "        text-align: left;\n",
       "    }\n",
       "\n",
       "    .dataframe thead tr:last-of-type th {\n",
       "        text-align: right;\n",
       "    }\n",
       "</style>\n",
       "<table border=\"1\" class=\"dataframe\">\n",
       "  <thead>\n",
       "    <tr>\n",
       "      <th></th>\n",
       "      <th colspan=\"8\" halign=\"left\">BMXBMI</th>\n",
       "    </tr>\n",
       "    <tr>\n",
       "      <th></th>\n",
       "      <th colspan=\"2\" halign=\"left\">mean</th>\n",
       "      <th colspan=\"2\" halign=\"left\">std</th>\n",
       "      <th colspan=\"2\" halign=\"left\">size</th>\n",
       "      <th colspan=\"2\" halign=\"left\">sem</th>\n",
       "    </tr>\n",
       "    <tr>\n",
       "      <th>RIAGENDRx</th>\n",
       "      <th>Female</th>\n",
       "      <th>Male</th>\n",
       "      <th>Female</th>\n",
       "      <th>Male</th>\n",
       "      <th>Female</th>\n",
       "      <th>Male</th>\n",
       "      <th>Female</th>\n",
       "      <th>Male</th>\n",
       "    </tr>\n",
       "    <tr>\n",
       "      <th>agegrp</th>\n",
       "      <th></th>\n",
       "      <th></th>\n",
       "      <th></th>\n",
       "      <th></th>\n",
       "      <th></th>\n",
       "      <th></th>\n",
       "      <th></th>\n",
       "      <th></th>\n",
       "    </tr>\n",
       "  </thead>\n",
       "  <tbody>\n",
       "    <tr>\n",
       "      <th>18-28</th>\n",
       "      <td>28.019433</td>\n",
       "      <td>27.058186</td>\n",
       "      <td>8.048854</td>\n",
       "      <td>6.679515</td>\n",
       "      <td>498</td>\n",
       "      <td>458</td>\n",
       "      <td>0.360678</td>\n",
       "      <td>0.312113</td>\n",
       "    </tr>\n",
       "    <tr>\n",
       "      <th>29-38</th>\n",
       "      <td>29.943443</td>\n",
       "      <td>29.697180</td>\n",
       "      <td>7.959097</td>\n",
       "      <td>6.726690</td>\n",
       "      <td>494</td>\n",
       "      <td>467</td>\n",
       "      <td>0.358097</td>\n",
       "      <td>0.311274</td>\n",
       "    </tr>\n",
       "    <tr>\n",
       "      <th>39-48</th>\n",
       "      <td>31.003733</td>\n",
       "      <td>29.514646</td>\n",
       "      <td>8.044642</td>\n",
       "      <td>6.104950</td>\n",
       "      <td>514</td>\n",
       "      <td>398</td>\n",
       "      <td>0.354834</td>\n",
       "      <td>0.306014</td>\n",
       "    </tr>\n",
       "    <tr>\n",
       "      <th>49-58</th>\n",
       "      <td>30.787361</td>\n",
       "      <td>29.385132</td>\n",
       "      <td>7.647590</td>\n",
       "      <td>6.151534</td>\n",
       "      <td>454</td>\n",
       "      <td>419</td>\n",
       "      <td>0.358919</td>\n",
       "      <td>0.300522</td>\n",
       "    </tr>\n",
       "    <tr>\n",
       "      <th>59-68</th>\n",
       "      <td>31.054664</td>\n",
       "      <td>29.232462</td>\n",
       "      <td>7.779502</td>\n",
       "      <td>5.959024</td>\n",
       "      <td>466</td>\n",
       "      <td>470</td>\n",
       "      <td>0.360378</td>\n",
       "      <td>0.274869</td>\n",
       "    </tr>\n",
       "    <tr>\n",
       "      <th>69-78</th>\n",
       "      <td>30.537818</td>\n",
       "      <td>28.720270</td>\n",
       "      <td>6.780588</td>\n",
       "      <td>5.336652</td>\n",
       "      <td>279</td>\n",
       "      <td>307</td>\n",
       "      <td>0.405943</td>\n",
       "      <td>0.304579</td>\n",
       "    </tr>\n",
       "    <tr>\n",
       "      <th>79-88</th>\n",
       "      <td>27.850000</td>\n",
       "      <td>27.464368</td>\n",
       "      <td>5.483781</td>\n",
       "      <td>4.695650</td>\n",
       "      <td>201</td>\n",
       "      <td>177</td>\n",
       "      <td>0.386796</td>\n",
       "      <td>0.352947</td>\n",
       "    </tr>\n",
       "  </tbody>\n",
       "</table>\n",
       "</div>"
      ],
      "text/plain": [
       "              BMXBMI                                                       \\\n",
       "                mean                  std             size            sem   \n",
       "RIAGENDRx     Female       Male    Female      Male Female Male    Female   \n",
       "agegrp                                                                      \n",
       "18-28      28.019433  27.058186  8.048854  6.679515    498  458  0.360678   \n",
       "29-38      29.943443  29.697180  7.959097  6.726690    494  467  0.358097   \n",
       "39-48      31.003733  29.514646  8.044642  6.104950    514  398  0.354834   \n",
       "49-58      30.787361  29.385132  7.647590  6.151534    454  419  0.358919   \n",
       "59-68      31.054664  29.232462  7.779502  5.959024    466  470  0.360378   \n",
       "69-78      30.537818  28.720270  6.780588  5.336652    279  307  0.405943   \n",
       "79-88      27.850000  27.464368  5.483781  4.695650    201  177  0.386796   \n",
       "\n",
       "                     \n",
       "                     \n",
       "RIAGENDRx      Male  \n",
       "agegrp               \n",
       "18-28      0.312113  \n",
       "29-38      0.311274  \n",
       "39-48      0.306014  \n",
       "49-58      0.300522  \n",
       "59-68      0.274869  \n",
       "69-78      0.304579  \n",
       "79-88      0.352947  "
      ]
     },
     "execution_count": 67,
     "metadata": {},
     "output_type": "execute_result"
    }
   ],
   "source": [
    "# Calculate the SEM for females and for males within each age band\n",
    "pr[\"BMXBMI\", \"sem\", \"Female\"] = pr[\"BMXBMI\", \"std\", \"Female\"] / np.sqrt(pr[\"BMXBMI\", \"size\", \"Female\"]) \n",
    "pr[\"BMXBMI\", \"sem\", \"Male\"] = pr[\"BMXBMI\", \"std\", \"Male\"] / np.sqrt(pr[\"BMXBMI\", \"size\", \"Male\"])\n",
    "pr"
   ]
  },
  {
   "cell_type": "code",
   "execution_count": 69,
   "metadata": {},
   "outputs": [
    {
     "data": {
      "text/html": [
       "<div>\n",
       "<style scoped>\n",
       "    .dataframe tbody tr th:only-of-type {\n",
       "        vertical-align: middle;\n",
       "    }\n",
       "\n",
       "    .dataframe tbody tr th {\n",
       "        vertical-align: top;\n",
       "    }\n",
       "\n",
       "    .dataframe thead tr th {\n",
       "        text-align: left;\n",
       "    }\n",
       "\n",
       "    .dataframe thead tr:last-of-type th {\n",
       "        text-align: right;\n",
       "    }\n",
       "</style>\n",
       "<table border=\"1\" class=\"dataframe\">\n",
       "  <thead>\n",
       "    <tr>\n",
       "      <th></th>\n",
       "      <th colspan=\"13\" halign=\"left\">BMXBMI</th>\n",
       "    </tr>\n",
       "    <tr>\n",
       "      <th></th>\n",
       "      <th colspan=\"2\" halign=\"left\">mean</th>\n",
       "      <th colspan=\"2\" halign=\"left\">std</th>\n",
       "      <th colspan=\"2\" halign=\"left\">size</th>\n",
       "      <th colspan=\"2\" halign=\"left\">sem</th>\n",
       "      <th>mean_diff</th>\n",
       "      <th>sem_diff</th>\n",
       "      <th>lcb_diff</th>\n",
       "      <th>ucb_diff</th>\n",
       "      <th>Width of CI</th>\n",
       "    </tr>\n",
       "    <tr>\n",
       "      <th>RIAGENDRx</th>\n",
       "      <th>Female</th>\n",
       "      <th>Male</th>\n",
       "      <th>Female</th>\n",
       "      <th>Male</th>\n",
       "      <th>Female</th>\n",
       "      <th>Male</th>\n",
       "      <th>Female</th>\n",
       "      <th>Male</th>\n",
       "      <th></th>\n",
       "      <th></th>\n",
       "      <th></th>\n",
       "      <th></th>\n",
       "      <th></th>\n",
       "    </tr>\n",
       "    <tr>\n",
       "      <th>agegrp</th>\n",
       "      <th></th>\n",
       "      <th></th>\n",
       "      <th></th>\n",
       "      <th></th>\n",
       "      <th></th>\n",
       "      <th></th>\n",
       "      <th></th>\n",
       "      <th></th>\n",
       "      <th></th>\n",
       "      <th></th>\n",
       "      <th></th>\n",
       "      <th></th>\n",
       "      <th></th>\n",
       "    </tr>\n",
       "  </thead>\n",
       "  <tbody>\n",
       "    <tr>\n",
       "      <th>18-28</th>\n",
       "      <td>28.019433</td>\n",
       "      <td>27.058186</td>\n",
       "      <td>8.048854</td>\n",
       "      <td>6.679515</td>\n",
       "      <td>498</td>\n",
       "      <td>458</td>\n",
       "      <td>0.360678</td>\n",
       "      <td>0.312113</td>\n",
       "      <td>0.961247</td>\n",
       "      <td>0.476973</td>\n",
       "      <td>0.026381</td>\n",
       "      <td>1.896114</td>\n",
       "      <td>1.869734</td>\n",
       "    </tr>\n",
       "    <tr>\n",
       "      <th>29-38</th>\n",
       "      <td>29.943443</td>\n",
       "      <td>29.697180</td>\n",
       "      <td>7.959097</td>\n",
       "      <td>6.726690</td>\n",
       "      <td>494</td>\n",
       "      <td>467</td>\n",
       "      <td>0.358097</td>\n",
       "      <td>0.311274</td>\n",
       "      <td>0.246263</td>\n",
       "      <td>0.474473</td>\n",
       "      <td>-0.683705</td>\n",
       "      <td>1.176230</td>\n",
       "      <td>1.859935</td>\n",
       "    </tr>\n",
       "    <tr>\n",
       "      <th>39-48</th>\n",
       "      <td>31.003733</td>\n",
       "      <td>29.514646</td>\n",
       "      <td>8.044642</td>\n",
       "      <td>6.104950</td>\n",
       "      <td>514</td>\n",
       "      <td>398</td>\n",
       "      <td>0.354834</td>\n",
       "      <td>0.306014</td>\n",
       "      <td>1.489086</td>\n",
       "      <td>0.468563</td>\n",
       "      <td>0.570703</td>\n",
       "      <td>2.407470</td>\n",
       "      <td>1.836767</td>\n",
       "    </tr>\n",
       "    <tr>\n",
       "      <th>49-58</th>\n",
       "      <td>30.787361</td>\n",
       "      <td>29.385132</td>\n",
       "      <td>7.647590</td>\n",
       "      <td>6.151534</td>\n",
       "      <td>454</td>\n",
       "      <td>419</td>\n",
       "      <td>0.358919</td>\n",
       "      <td>0.300522</td>\n",
       "      <td>1.402230</td>\n",
       "      <td>0.468120</td>\n",
       "      <td>0.484714</td>\n",
       "      <td>2.319745</td>\n",
       "      <td>1.835031</td>\n",
       "    </tr>\n",
       "    <tr>\n",
       "      <th>59-68</th>\n",
       "      <td>31.054664</td>\n",
       "      <td>29.232462</td>\n",
       "      <td>7.779502</td>\n",
       "      <td>5.959024</td>\n",
       "      <td>466</td>\n",
       "      <td>470</td>\n",
       "      <td>0.360378</td>\n",
       "      <td>0.274869</td>\n",
       "      <td>1.822202</td>\n",
       "      <td>0.453239</td>\n",
       "      <td>0.933853</td>\n",
       "      <td>2.710551</td>\n",
       "      <td>1.776698</td>\n",
       "    </tr>\n",
       "    <tr>\n",
       "      <th>69-78</th>\n",
       "      <td>30.537818</td>\n",
       "      <td>28.720270</td>\n",
       "      <td>6.780588</td>\n",
       "      <td>5.336652</td>\n",
       "      <td>279</td>\n",
       "      <td>307</td>\n",
       "      <td>0.405943</td>\n",
       "      <td>0.304579</td>\n",
       "      <td>1.817548</td>\n",
       "      <td>0.507502</td>\n",
       "      <td>0.822844</td>\n",
       "      <td>2.812252</td>\n",
       "      <td>1.989407</td>\n",
       "    </tr>\n",
       "    <tr>\n",
       "      <th>79-88</th>\n",
       "      <td>27.850000</td>\n",
       "      <td>27.464368</td>\n",
       "      <td>5.483781</td>\n",
       "      <td>4.695650</td>\n",
       "      <td>201</td>\n",
       "      <td>177</td>\n",
       "      <td>0.386796</td>\n",
       "      <td>0.352947</td>\n",
       "      <td>0.385632</td>\n",
       "      <td>0.523624</td>\n",
       "      <td>-0.640672</td>\n",
       "      <td>1.411936</td>\n",
       "      <td>2.052608</td>\n",
       "    </tr>\n",
       "  </tbody>\n",
       "</table>\n",
       "</div>"
      ],
      "text/plain": [
       "              BMXBMI                                                       \\\n",
       "                mean                  std             size            sem   \n",
       "RIAGENDRx     Female       Male    Female      Male Female Male    Female   \n",
       "agegrp                                                                      \n",
       "18-28      28.019433  27.058186  8.048854  6.679515    498  458  0.360678   \n",
       "29-38      29.943443  29.697180  7.959097  6.726690    494  467  0.358097   \n",
       "39-48      31.003733  29.514646  8.044642  6.104950    514  398  0.354834   \n",
       "49-58      30.787361  29.385132  7.647590  6.151534    454  419  0.358919   \n",
       "59-68      31.054664  29.232462  7.779502  5.959024    466  470  0.360378   \n",
       "69-78      30.537818  28.720270  6.780588  5.336652    279  307  0.405943   \n",
       "79-88      27.850000  27.464368  5.483781  4.695650    201  177  0.386796   \n",
       "\n",
       "                                                                         \n",
       "                    mean_diff  sem_diff  lcb_diff  ucb_diff Width of CI  \n",
       "RIAGENDRx      Male                                                      \n",
       "agegrp                                                                   \n",
       "18-28      0.312113  0.961247  0.476973  0.026381  1.896114    1.869734  \n",
       "29-38      0.311274  0.246263  0.474473 -0.683705  1.176230    1.859935  \n",
       "39-48      0.306014  1.489086  0.468563  0.570703  2.407470    1.836767  \n",
       "49-58      0.300522  1.402230  0.468120  0.484714  2.319745    1.835031  \n",
       "59-68      0.274869  1.822202  0.453239  0.933853  2.710551    1.776698  \n",
       "69-78      0.304579  1.817548  0.507502  0.822844  2.812252    1.989407  \n",
       "79-88      0.352947  0.385632  0.523624 -0.640672  1.411936    2.052608  "
      ]
     },
     "execution_count": 69,
     "metadata": {},
     "output_type": "execute_result"
    }
   ],
   "source": [
    "# Calculate the mean difference of BMI between females and males within each age band, also  calculate\n",
    "# its SE and the lower and upper limits of its 95% CI.\n",
    "pr[\"BMXBMI\", \"mean_diff\", \"\"] = pr[\"BMXBMI\", \"mean\", \"Female\"] - pr[\"BMXBMI\", \"mean\", \"Male\"]\n",
    "pr[\"BMXBMI\", \"sem_diff\", \"\"] = np.sqrt(pr[\"BMXBMI\", \"sem\", \"Female\"]**2 + pr[\"BMXBMI\", \"sem\", \"Male\"]**2) \n",
    "pr[\"BMXBMI\", \"lcb_diff\", \"\"] = pr[\"BMXBMI\", \"mean_diff\", \"\"] - 1.96 * pr[\"BMXBMI\", \"sem_diff\", \"\"] \n",
    "pr[\"BMXBMI\", \"ucb_diff\", \"\"] = pr[\"BMXBMI\", \"mean_diff\", \"\"] + 1.96 * pr[\"BMXBMI\", \"sem_diff\", \"\"] \n",
    "pr[\"BMXBMI\", \"Width of CI\", \"\"] = pr[\"BMXBMI\", \"ucb_diff\", \"\"] - pr[\"BMXBMI\", \"lcb_diff\", \"\"]\n",
    "pr"
   ]
  },
  {
   "attachments": {},
   "cell_type": "markdown",
   "metadata": {},
   "source": [
    "#### Q4a. How do the widths of these confidence intervals differ?  Provide an explanation for any substantial diferences in the confidence interval widths that you see."
   ]
  },
  {
   "attachments": {},
   "cell_type": "markdown",
   "metadata": {},
   "source": [
    "The confidence interval width for the age groups is fairly equal except for the age group [79-88] where the width is much larger between females and males."
   ]
  },
  {
   "attachments": {},
   "cell_type": "markdown",
   "metadata": {},
   "source": [
    "## Question 5\n",
    "\n",
    "### Construct a 95% confidence interval for the first and second systolic blood pressure measures, and for the difference between the first and second systolic blood pressure measurements within a subject."
   ]
  },
  {
   "cell_type": "code",
   "execution_count": 77,
   "metadata": {},
   "outputs": [],
   "source": [
    "# creating subset\n",
    "first_sbp = df['BPXSY1']\n",
    "second_sbp = df['BPXSY2']\n",
    "sbp_diff = first_sbp - second_sbp\n",
    "\n",
    "# removing null values\n",
    "first_sbp=first_sbp.dropna()\n",
    "first_sbp.reset_index(inplace=True, drop=True)\n",
    "second_sbp=second_sbp.dropna()\n",
    "second_sbp.reset_index(inplace=True, drop=True)\n",
    "sbp_diff=sbp_diff.dropna()\n",
    "sbp_diff.reset_index(inplace=True, drop=True)"
   ]
  },
  {
   "cell_type": "code",
   "execution_count": 94,
   "metadata": {},
   "outputs": [
    {
     "data": {
      "image/png": "[encoded data removed]",
      "text/plain": [
       "<Figure size 1500x1000 with 3 Axes>"
      ]
     },
     "metadata": {},
     "output_type": "display_data"
    }
   ],
   "source": [
    "# visualizing distribution\n",
    "# Set up the figure for plotting\n",
    "plt.figure(figsize=(15,10))\n",
    "\n",
    "# Plot the UofM students only\n",
    "plt.subplot(2,2,1)\n",
    "sns.histplot(first_sbp, kde=True)\n",
    "plt.title(\"First Systolic Blood Pressure\")\n",
    "\n",
    "# Plot the Gym Goers only\n",
    "plt.subplot(2,2,2)\n",
    "sns.histplot(second_sbp, kde=True)\n",
    "plt.title(\"Second Systolic Blood Pressure\")\n",
    "\n",
    "# Plot both groups together\n",
    "plt.subplot(2,2,3)\n",
    "sns.histplot(sbp_diff, kde=True)\n",
    "plt.title(\"Difference Between 1st and 2nd Systolic Blood Pressure\")\n",
    "\n",
    "\n",
    "plt.show()"
   ]
  },
  {
   "cell_type": "code",
   "execution_count": 96,
   "metadata": {},
   "outputs": [
    {
     "name": "stdout",
     "output_type": "stream",
     "text": [
      "First Systolic Blood Pressure\n",
      "95% CI: 124.59163222328895, 125.57759569746646\n",
      "CI Width:  0.9859634741775096\n"
     ]
    }
   ],
   "source": [
    "lower, upper = sm.stats.DescrStatsW(first_sbp).tconfint_mean()\n",
    "print(\"First Systolic Blood Pressure\")\n",
    "print(f\"95% CI: {lower}, {upper}\")\n",
    "print(\"CI Width: \", upper-lower)"
   ]
  },
  {
   "cell_type": "code",
   "execution_count": 97,
   "metadata": {},
   "outputs": [
    {
     "name": "stdout",
     "output_type": "stream",
     "text": [
      "Second Systolic Blood Pressure\n",
      "95% CI: 124.29482629577244, 125.27120803123749\n",
      "CI Width:  0.9763817354650541\n"
     ]
    }
   ],
   "source": [
    "lower, upper = sm.stats.DescrStatsW(second_sbp).tconfint_mean()\n",
    "print(\"Second Systolic Blood Pressure\")\n",
    "print(f\"95% CI: {lower}, {upper}\")\n",
    "print(\"CI Width: \", upper-lower)"
   ]
  },
  {
   "cell_type": "code",
   "execution_count": 98,
   "metadata": {},
   "outputs": [
    {
     "name": "stdout",
     "output_type": "stream",
     "text": [
      "Systolic Blood Pressure Difference (1st - 2nd)\n",
      "95% CI: 0.5399696008802797, 0.8100024609561889\n",
      "CI Width:  0.2700328600759092\n"
     ]
    }
   ],
   "source": [
    "lower, upper = sm.stats.DescrStatsW(sbp_diff).tconfint_mean()\n",
    "print(\"Systolic Blood Pressure Mean Difference (1st - 2nd)\")\n",
    "print(f\"95% CI: {lower}, {upper}\")\n",
    "print(\"CI Width: \", upper-lower)"
   ]
  },
  {
   "attachments": {},
   "cell_type": "markdown",
   "metadata": {},
   "source": [
    "#### Q5a. Based on these confidence intervals, would you say that a difference of zero between the population mean values of the first and second systolic blood pressure measures is consistent with the data?"
   ]
  },
  {
   "attachments": {},
   "cell_type": "markdown",
   "metadata": {},
   "source": [
    "The confidence intervals gotten for the first and second systolic blood pressure measurements do overlap, which means that a difference of zero between the population mean values of these two measurements is consistent with the data. \n",
    "\n",
    "However, the confidence interval for the difference between the first and second measurements within each subject does not overlap with zero, indicating that there is likely a significant difference between the two measurements within each subject. Therefore, while the data may not provide evidence of a difference between the population mean values of the first and second systolic blood pressure measures, it does suggest that there is a difference within subjects, which could have important clinical implications."
   ]
  },
  {
   "attachments": {},
   "cell_type": "markdown",
   "metadata": {},
   "source": [
    "#### Q5b. Discuss how the width of the confidence interval for the within-subject difference compares to the widths of the confidence intervals for the first and second measures."
   ]
  },
  {
   "attachments": {},
   "cell_type": "markdown",
   "metadata": {},
   "source": [
    "Comparing the widths of the confidence intervals for the within-subject difference and the first and second measures can provide insights into the variability of these measures and the precision of the estimate of the difference between the first and second measurements.\n",
    "\n",
    "The width of the confidence interval for the within-subject difference is (0.54, 0.81), which has a range of 0.27. This is narrower than the width of the confidence intervals for the first and second measures, which have ranges of 0.99 and 0.98, respectively.\n",
    "\n",
    "The narrower width of the confidence interval for the within-subject difference suggests that the difference between the first and second measurements is estimated with greater precision than the individual measurements themselves. This could be due to a reduction in variability introduced by using each subject as their own control, which allows for a more precise estimation of the difference between measurements.\n",
    "\n",
    "Overall, the narrower confidence interval for the within-subject difference compared to the confidence intervals for the individual measures suggests that measuring the same variable twice in each subject can provide more precise information about the difference between the two measurements than measuring the variable only once."
   ]
  },
  {
   "attachments": {},
   "cell_type": "markdown",
   "metadata": {},
   "source": [
    "## Question 6\n",
    "\n",
    "### Construct a 95% confidence interval for the mean difference between the average age of a smoker, and the average age of a non-smoker."
   ]
  },
  {
   "cell_type": "code",
   "execution_count": 102,
   "metadata": {},
   "outputs": [],
   "source": [
    "# getting age data from subset of smokers\n",
    "smokers_age = df.query('SMQ020==1')['RIDAGEYR']\n",
    "# removing null values\n",
    "smokers_age = smokers_age.dropna()\n",
    "smokers_age.reset_index(inplace=True, drop=True)\n",
    "\n",
    "# getting age data from subset of non-smokers\n",
    "nonsmokers_age = df.query('SMQ020!=1')['RIDAGEYR']\n",
    "# removing null values\n",
    "nonsmokers_age = nonsmokers_age.dropna()\n",
    "nonsmokers_age.reset_index(inplace=True, drop=True)"
   ]
  },
  {
   "cell_type": "code",
   "execution_count": 103,
   "metadata": {},
   "outputs": [
    {
     "data": {
      "text/plain": [
       "<statsmodels.stats.weightstats.DescrStatsW at 0x25b2ebcc640>"
      ]
     },
     "execution_count": 103,
     "metadata": {},
     "output_type": "execute_result"
    }
   ],
   "source": [
    "sm.stats.DescrStatsW(smokers_age)"
   ]
  },
  {
   "cell_type": "code",
   "execution_count": 104,
   "metadata": {},
   "outputs": [
    {
     "name": "stdout",
     "output_type": "stream",
     "text": [
      "pooled:  5.833562476381499 , 7.746041103858306\n"
     ]
    }
   ],
   "source": [
    "# create 'DescrStatsW' object\n",
    "smokers_age_temp=sm.stats.DescrStatsW(smokers_age)\n",
    "non_smokers_age_temp=sm.stats.DescrStatsW(nonsmokers_age)\n",
    "\n",
    "# create a 'CompareMeans' object which performs the two-sample t-test and computes the\n",
    "# confidence interval for the diff btwn the means of the two groups\n",
    "cm = sm.stats.CompareMeans(smokers_age_temp, non_smokers_age_temp)\n",
    "# calculates the CI using the pooled variance method\n",
    "lower, upper=cm.tconfint_diff(usevar='pooled')\n",
    "print(\"pooled: \", lower, \",\", upper)"
   ]
  },
  {
   "attachments": {},
   "cell_type": "markdown",
   "metadata": {},
   "source": [
    "Another way of handling it"
   ]
  },
  {
   "cell_type": "code",
   "execution_count": 106,
   "metadata": {},
   "outputs": [
    {
     "name": "stdout",
     "output_type": "stream",
     "text": [
      "Difference in Mean Ages for Smokers and Non Smokers\n",
      "95% CI: 5.592075810592791, 7.69554816525887\n",
      "CI Width:  2.1034723546660796\n"
     ]
    }
   ],
   "source": [
    "smoker_diff = smokers_age - nonsmokers_age\n",
    "smoker_diff = smoker_diff.dropna()\n",
    "\n",
    "lower, upper = sm.stats.DescrStatsW(smoker_diff).tconfint_mean()\n",
    "print(\"Difference in Mean Ages for Smokers and Non Smokers\")\n",
    "print(f\"95% CI: {lower}, {upper}\")\n",
    "print(\"CI Width: \", upper-lower)"
   ]
  },
  {
   "attachments": {},
   "cell_type": "markdown",
   "metadata": {},
   "source": [
    "#### Q6a. Use graphical and numerical techniques to compare the variation in the ages of smokers to the variation in the ages of non-smokers.  "
   ]
  },
  {
   "cell_type": "code",
   "execution_count": 107,
   "metadata": {},
   "outputs": [
    {
     "data": {
      "text/plain": [
       "count    2319.000000\n",
       "mean       52.096593\n",
       "std        17.461141\n",
       "min        18.000000\n",
       "25%        37.000000\n",
       "50%        54.000000\n",
       "75%        66.000000\n",
       "max        80.000000\n",
       "Name: RIDAGEYR, dtype: float64"
      ]
     },
     "execution_count": 107,
     "metadata": {},
     "output_type": "execute_result"
    }
   ],
   "source": [
    "smokers_age.describe()"
   ]
  },
  {
   "cell_type": "code",
   "execution_count": 108,
   "metadata": {},
   "outputs": [
    {
     "data": {
      "text/plain": [
       "count    3416.000000\n",
       "mean       45.306792\n",
       "std        18.568337\n",
       "min        18.000000\n",
       "25%        29.000000\n",
       "50%        44.000000\n",
       "75%        60.000000\n",
       "max        80.000000\n",
       "Name: RIDAGEYR, dtype: float64"
      ]
     },
     "execution_count": 108,
     "metadata": {},
     "output_type": "execute_result"
    }
   ],
   "source": [
    "nonsmokers_age.describe()"
   ]
  },
  {
   "cell_type": "code",
   "execution_count": 122,
   "metadata": {},
   "outputs": [
    {
     "data": {
      "image/png": "[encoded data removed]",
      "text/plain": [
       "<Figure size 500x300 with 1 Axes>"
      ]
     },
     "metadata": {},
     "output_type": "display_data"
    }
   ],
   "source": [
    "plt.figure(figsize=[5,3])\n",
    "sns.boxplot(x=smokers_age, width=0.4)\n",
    "plt.title('Age of Smokers');"
   ]
  },
  {
   "cell_type": "code",
   "execution_count": 123,
   "metadata": {},
   "outputs": [
    {
     "data": {
      "image/png": "[encoded data removed]",
      "text/plain": [
       "<Figure size 500x300 with 1 Axes>"
      ]
     },
     "metadata": {},
     "output_type": "display_data"
    }
   ],
   "source": [
    "plt.figure(figsize=[5,3])\n",
    "sns.boxplot(x=nonsmokers_age, width=0.4)\n",
    "plt.title('Age of Non-Smokers');"
   ]
  },
  {
   "attachments": {},
   "cell_type": "markdown",
   "metadata": {},
   "source": [
    "#### Q6b. Does it appear that uncertainty about the mean age of smokers, or uncertainty about the mean age of non-smokers contributed more to the uncertainty for the mean difference that we are focusing on here?"
   ]
  },
  {
   "attachments": {},
   "cell_type": "markdown",
   "metadata": {},
   "source": [
    "Based on the given confidence interval result, the mean difference between the average age of smokers and non-smokers is estimated to be between 5.592 and 7.696 years. Since the confidence interval does not include zero, we can infer that the difference between the mean ages of smokers and non-smokers is statistically significant.\n",
    "\n",
    "To determine whether uncertainty about the mean age of smokers or non-smokers contributed more to the uncertainty for the mean difference, we need to examine the confidence interval widths for each group. A wider confidence interval indicates more uncertainty about the mean for that group, and therefore more uncertainty about the difference between the means.\n",
    "\n",
    "However, since we didn't calculate the widths, we cannot determine which group contributed more to the uncertainty for the mean difference based on the given information."
   ]
  }
 ],
 "metadata": {
  "kernelspec": {
   "display_name": "Python 3",
   "language": "python",
   "name": "python3"
  },
  "language_info": {
   "codemirror_mode": {
    "name": "ipython",
    "version": 3
   },
   "file_extension": ".py",
   "mimetype": "text/x-python",
   "name": "python",
   "nbconvert_exporter": "python",
   "pygments_lexer": "ipython3",
   "version": "3.9.13"
  }
 },
 "nbformat": 4,
 "nbformat_minor": 2
}
